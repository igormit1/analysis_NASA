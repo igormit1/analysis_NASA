{
 "cells": [
  {
   "cell_type": "code",
   "execution_count": 5,
   "id": "e8e26192",
   "metadata": {},
   "outputs": [],
   "source": [
    "import matplotlib.pyplot as plt\n",
    "import seaborn as sns\n",
    "import pandas as pd\n",
    "import numpy as np"
   ]
  },
  {
   "cell_type": "code",
   "execution_count": 59,
   "id": "97d7b199",
   "metadata": {},
   "outputs": [
    {
     "data": {
      "text/html": [
       "<div>\n",
       "<style scoped>\n",
       "    .dataframe tbody tr th:only-of-type {\n",
       "        vertical-align: middle;\n",
       "    }\n",
       "\n",
       "    .dataframe tbody tr th {\n",
       "        vertical-align: top;\n",
       "    }\n",
       "\n",
       "    .dataframe thead th {\n",
       "        text-align: right;\n",
       "    }\n",
       "</style>\n",
       "<table border=\"1\" class=\"dataframe\">\n",
       "  <thead>\n",
       "    <tr style=\"text-align: right;\">\n",
       "      <th></th>\n",
       "      <th>Center</th>\n",
       "      <th>Center Search Status</th>\n",
       "      <th>Facility</th>\n",
       "      <th>FacilityURL</th>\n",
       "      <th>Occupied</th>\n",
       "      <th>Status</th>\n",
       "      <th>URL Link</th>\n",
       "      <th>Record Date</th>\n",
       "      <th>Last Update</th>\n",
       "      <th>Country</th>\n",
       "      <th>Contact</th>\n",
       "      <th>Phone</th>\n",
       "      <th>Location</th>\n",
       "      <th>City</th>\n",
       "      <th>State</th>\n",
       "      <th>Zipcode</th>\n",
       "      <th>World Map</th>\n",
       "      <th>States</th>\n",
       "      <th>Counties</th>\n",
       "    </tr>\n",
       "  </thead>\n",
       "  <tbody>\n",
       "    <tr>\n",
       "      <th>0</th>\n",
       "      <td>Kennedy Space Center</td>\n",
       "      <td>Public</td>\n",
       "      <td>Control Room 2/1726/HGR-S</td>\n",
       "      <td>NaN</td>\n",
       "      <td>1957.0</td>\n",
       "      <td>NaN</td>\n",
       "      <td>NaN</td>\n",
       "      <td>03/01/1996 12:00:00 AM</td>\n",
       "      <td>06/22/2015 12:00:00 AM</td>\n",
       "      <td>US</td>\n",
       "      <td>Sheryl Chaffee</td>\n",
       "      <td>321-867-8047</td>\n",
       "      <td>32899(28.538331, -81.378879)</td>\n",
       "      <td>Kennedy Space Center</td>\n",
       "      <td>FL</td>\n",
       "      <td>32899</td>\n",
       "      <td>173</td>\n",
       "      <td>30</td>\n",
       "      <td>1078</td>\n",
       "    </tr>\n",
       "    <tr>\n",
       "      <th>1</th>\n",
       "      <td>Langley Research Center</td>\n",
       "      <td>Public</td>\n",
       "      <td>Micometeroid/LDEF Analysis Laboratory</td>\n",
       "      <td>NaN</td>\n",
       "      <td>1965.0</td>\n",
       "      <td>Active</td>\n",
       "      <td>NaN</td>\n",
       "      <td>03/01/1996 12:00:00 AM</td>\n",
       "      <td>02/25/2013 12:00:00 AM</td>\n",
       "      <td>US</td>\n",
       "      <td>Sherry Johnson</td>\n",
       "      <td>757.864-3848</td>\n",
       "      <td>23681-2199(37.08681, -76.376649)</td>\n",
       "      <td>Hampton</td>\n",
       "      <td>VA</td>\n",
       "      <td>23681-2199</td>\n",
       "      <td>173</td>\n",
       "      <td>40</td>\n",
       "      <td>2913</td>\n",
       "    </tr>\n",
       "    <tr>\n",
       "      <th>2</th>\n",
       "      <td>Kennedy Space Center</td>\n",
       "      <td>Public</td>\n",
       "      <td>SRM Rotation and Processing Facility/K6-0494</td>\n",
       "      <td>NaN</td>\n",
       "      <td>1984.0</td>\n",
       "      <td>NaN</td>\n",
       "      <td>NaN</td>\n",
       "      <td>03/01/1996 12:00:00 AM</td>\n",
       "      <td>06/22/2015 12:00:00 AM</td>\n",
       "      <td>US</td>\n",
       "      <td>Sheryl Chaffee</td>\n",
       "      <td>321-867-8047</td>\n",
       "      <td>32899(28.538331, -81.378879)</td>\n",
       "      <td>Kennedy Space Center</td>\n",
       "      <td>FL</td>\n",
       "      <td>32899</td>\n",
       "      <td>173</td>\n",
       "      <td>30</td>\n",
       "      <td>1078</td>\n",
       "    </tr>\n",
       "    <tr>\n",
       "      <th>3</th>\n",
       "      <td>Marshall Space Flight Center</td>\n",
       "      <td>Public</td>\n",
       "      <td>ET WTC - 14-Inch Trisonic Wind Tunnel 4732</td>\n",
       "      <td>NaN</td>\n",
       "      <td>1968.0</td>\n",
       "      <td>Active</td>\n",
       "      <td>NaN</td>\n",
       "      <td>03/01/1996 12:00:00 AM</td>\n",
       "      <td>03/31/2014 12:00:00 AM</td>\n",
       "      <td>US</td>\n",
       "      <td>Pam Caruso</td>\n",
       "      <td>256-544-7795</td>\n",
       "      <td>35812(34.729538, -86.585283)</td>\n",
       "      <td>Huntsville</td>\n",
       "      <td>AL</td>\n",
       "      <td>35812</td>\n",
       "      <td>173</td>\n",
       "      <td>29</td>\n",
       "      <td>1588</td>\n",
       "    </tr>\n",
       "    <tr>\n",
       "      <th>4</th>\n",
       "      <td>Marshall Space Flight Center</td>\n",
       "      <td>Public</td>\n",
       "      <td>EB LAB Control Moment Gyro Test &amp; Eval Fac 4487</td>\n",
       "      <td>NaN</td>\n",
       "      <td>NaN</td>\n",
       "      <td>Active</td>\n",
       "      <td>NaN</td>\n",
       "      <td>06/11/1996 12:00:00 AM</td>\n",
       "      <td>05/30/2014 12:00:00 AM</td>\n",
       "      <td>US</td>\n",
       "      <td>Pam Caruso</td>\n",
       "      <td>256-544-7795</td>\n",
       "      <td>35812(34.729538, -86.585283)</td>\n",
       "      <td>Huntsville</td>\n",
       "      <td>AL</td>\n",
       "      <td>35812</td>\n",
       "      <td>173</td>\n",
       "      <td>29</td>\n",
       "      <td>1588</td>\n",
       "    </tr>\n",
       "  </tbody>\n",
       "</table>\n",
       "</div>"
      ],
      "text/plain": [
       "                         Center Center Search Status  \\\n",
       "0          Kennedy Space Center               Public   \n",
       "1       Langley Research Center               Public   \n",
       "2          Kennedy Space Center               Public   \n",
       "3  Marshall Space Flight Center               Public   \n",
       "4  Marshall Space Flight Center               Public   \n",
       "\n",
       "                                          Facility  FacilityURL  Occupied  \\\n",
       "0                       Control Room 2/1726/HGR-S           NaN    1957.0   \n",
       "1            Micometeroid/LDEF Analysis Laboratory          NaN    1965.0   \n",
       "2    SRM Rotation and Processing Facility/K6-0494           NaN    1984.0   \n",
       "3       ET WTC - 14-Inch Trisonic Wind Tunnel 4732          NaN    1968.0   \n",
       "4  EB LAB Control Moment Gyro Test & Eval Fac 4487          NaN       NaN   \n",
       "\n",
       "   Status URL Link             Record Date             Last Update Country  \\\n",
       "0     NaN      NaN  03/01/1996 12:00:00 AM  06/22/2015 12:00:00 AM      US   \n",
       "1  Active      NaN  03/01/1996 12:00:00 AM  02/25/2013 12:00:00 AM      US   \n",
       "2     NaN      NaN  03/01/1996 12:00:00 AM  06/22/2015 12:00:00 AM      US   \n",
       "3  Active      NaN  03/01/1996 12:00:00 AM  03/31/2014 12:00:00 AM      US   \n",
       "4  Active      NaN  06/11/1996 12:00:00 AM  05/30/2014 12:00:00 AM      US   \n",
       "\n",
       "          Contact         Phone                          Location  \\\n",
       "0  Sheryl Chaffee  321-867-8047      32899(28.538331, -81.378879)   \n",
       "1  Sherry Johnson  757.864-3848  23681-2199(37.08681, -76.376649)   \n",
       "2  Sheryl Chaffee  321-867-8047      32899(28.538331, -81.378879)   \n",
       "3      Pam Caruso  256-544-7795      35812(34.729538, -86.585283)   \n",
       "4      Pam Caruso  256-544-7795      35812(34.729538, -86.585283)   \n",
       "\n",
       "                   City State     Zipcode  World Map  States  Counties  \n",
       "0  Kennedy Space Center    FL       32899        173      30      1078  \n",
       "1               Hampton    VA  23681-2199        173      40      2913  \n",
       "2  Kennedy Space Center    FL       32899        173      30      1078  \n",
       "3            Huntsville    AL       35812        173      29      1588  \n",
       "4            Huntsville    AL       35812        173      29      1588  "
      ]
     },
     "execution_count": 59,
     "metadata": {},
     "output_type": "execute_result"
    }
   ],
   "source": [
    "df = pd.read_csv('C:/Users/Usuario/OneDrive/Documentos/NASA_Facilities.csv')\n",
    "df.head(5)"
   ]
  },
  {
   "cell_type": "code",
   "execution_count": 11,
   "id": "32f8dae8",
   "metadata": {},
   "outputs": [
    {
     "name": "stdout",
     "output_type": "stream",
     "text": [
      "<class 'pandas.core.frame.DataFrame'>\n",
      "RangeIndex: 485 entries, 0 to 484\n",
      "Data columns (total 19 columns):\n",
      " #   Column                Non-Null Count  Dtype  \n",
      "---  ------                --------------  -----  \n",
      " 0   Center                485 non-null    object \n",
      " 1   Center Search Status  485 non-null    object \n",
      " 2   Facility              485 non-null    object \n",
      " 3   FacilityURL           0 non-null      float64\n",
      " 4   Occupied              393 non-null    float64\n",
      " 5   Status                399 non-null    object \n",
      " 6   URL Link              145 non-null    object \n",
      " 7   Record Date           485 non-null    object \n",
      " 8   Last Update           479 non-null    object \n",
      " 9   Country               485 non-null    object \n",
      " 10  Contact               485 non-null    object \n",
      " 11  Phone                 485 non-null    object \n",
      " 12  Location              485 non-null    object \n",
      " 13  City                  485 non-null    object \n",
      " 14  State                 485 non-null    object \n",
      " 15  Zipcode               485 non-null    object \n",
      " 16  World Map             485 non-null    int64  \n",
      " 17  States                485 non-null    int64  \n",
      " 18  Counties              485 non-null    int64  \n",
      "dtypes: float64(2), int64(3), object(14)\n",
      "memory usage: 72.1+ KB\n"
     ]
    }
   ],
   "source": [
    "df.info()"
   ]
  },
  {
   "cell_type": "code",
   "execution_count": 12,
   "id": "2d2322d4",
   "metadata": {},
   "outputs": [
    {
     "data": {
      "text/html": [
       "<div>\n",
       "<style scoped>\n",
       "    .dataframe tbody tr th:only-of-type {\n",
       "        vertical-align: middle;\n",
       "    }\n",
       "\n",
       "    .dataframe tbody tr th {\n",
       "        vertical-align: top;\n",
       "    }\n",
       "\n",
       "    .dataframe thead th {\n",
       "        text-align: right;\n",
       "    }\n",
       "</style>\n",
       "<table border=\"1\" class=\"dataframe\">\n",
       "  <thead>\n",
       "    <tr style=\"text-align: right;\">\n",
       "      <th></th>\n",
       "      <th>FacilityURL</th>\n",
       "      <th>Occupied</th>\n",
       "      <th>World Map</th>\n",
       "      <th>States</th>\n",
       "      <th>Counties</th>\n",
       "    </tr>\n",
       "  </thead>\n",
       "  <tbody>\n",
       "    <tr>\n",
       "      <th>count</th>\n",
       "      <td>0.0</td>\n",
       "      <td>393.000000</td>\n",
       "      <td>485.0</td>\n",
       "      <td>485.000000</td>\n",
       "      <td>485.000000</td>\n",
       "    </tr>\n",
       "    <tr>\n",
       "      <th>mean</th>\n",
       "      <td>NaN</td>\n",
       "      <td>1967.870229</td>\n",
       "      <td>173.0</td>\n",
       "      <td>30.515464</td>\n",
       "      <td>1709.059794</td>\n",
       "    </tr>\n",
       "    <tr>\n",
       "      <th>std</th>\n",
       "      <td>NaN</td>\n",
       "      <td>14.952508</td>\n",
       "      <td>0.0</td>\n",
       "      <td>10.062320</td>\n",
       "      <td>614.001574</td>\n",
       "    </tr>\n",
       "    <tr>\n",
       "      <th>min</th>\n",
       "      <td>NaN</td>\n",
       "      <td>1940.000000</td>\n",
       "      <td>173.0</td>\n",
       "      <td>8.000000</td>\n",
       "      <td>1049.000000</td>\n",
       "    </tr>\n",
       "    <tr>\n",
       "      <th>25%</th>\n",
       "      <td>NaN</td>\n",
       "      <td>1959.000000</td>\n",
       "      <td>173.0</td>\n",
       "      <td>29.000000</td>\n",
       "      <td>1195.000000</td>\n",
       "    </tr>\n",
       "    <tr>\n",
       "      <th>50%</th>\n",
       "      <td>NaN</td>\n",
       "      <td>1965.000000</td>\n",
       "      <td>173.0</td>\n",
       "      <td>30.000000</td>\n",
       "      <td>1588.000000</td>\n",
       "    </tr>\n",
       "    <tr>\n",
       "      <th>75%</th>\n",
       "      <td>NaN</td>\n",
       "      <td>1977.000000</td>\n",
       "      <td>173.0</td>\n",
       "      <td>38.000000</td>\n",
       "      <td>1815.000000</td>\n",
       "    </tr>\n",
       "    <tr>\n",
       "      <th>max</th>\n",
       "      <td>NaN</td>\n",
       "      <td>2012.000000</td>\n",
       "      <td>173.0</td>\n",
       "      <td>45.000000</td>\n",
       "      <td>3219.000000</td>\n",
       "    </tr>\n",
       "  </tbody>\n",
       "</table>\n",
       "</div>"
      ],
      "text/plain": [
       "       FacilityURL     Occupied  World Map      States     Counties\n",
       "count          0.0   393.000000      485.0  485.000000   485.000000\n",
       "mean           NaN  1967.870229      173.0   30.515464  1709.059794\n",
       "std            NaN    14.952508        0.0   10.062320   614.001574\n",
       "min            NaN  1940.000000      173.0    8.000000  1049.000000\n",
       "25%            NaN  1959.000000      173.0   29.000000  1195.000000\n",
       "50%            NaN  1965.000000      173.0   30.000000  1588.000000\n",
       "75%            NaN  1977.000000      173.0   38.000000  1815.000000\n",
       "max            NaN  2012.000000      173.0   45.000000  3219.000000"
      ]
     },
     "execution_count": 12,
     "metadata": {},
     "output_type": "execute_result"
    }
   ],
   "source": [
    "df.describe()"
   ]
  },
  {
   "cell_type": "code",
   "execution_count": 13,
   "id": "8add69de",
   "metadata": {},
   "outputs": [
    {
     "data": {
      "text/plain": [
       "(485, 19)"
      ]
     },
     "execution_count": 13,
     "metadata": {},
     "output_type": "execute_result"
    }
   ],
   "source": [
    "df.shape"
   ]
  },
  {
   "cell_type": "code",
   "execution_count": 24,
   "id": "4a084f07",
   "metadata": {},
   "outputs": [
    {
     "data": {
      "text/html": [
       "<div>\n",
       "<style scoped>\n",
       "    .dataframe tbody tr th:only-of-type {\n",
       "        vertical-align: middle;\n",
       "    }\n",
       "\n",
       "    .dataframe tbody tr th {\n",
       "        vertical-align: top;\n",
       "    }\n",
       "\n",
       "    .dataframe thead th {\n",
       "        text-align: right;\n",
       "    }\n",
       "</style>\n",
       "<table border=\"1\" class=\"dataframe\">\n",
       "  <thead>\n",
       "    <tr style=\"text-align: right;\">\n",
       "      <th></th>\n",
       "      <th>Center</th>\n",
       "      <th>Facility</th>\n",
       "      <th>Occupied</th>\n",
       "      <th>City</th>\n",
       "      <th>State</th>\n",
       "    </tr>\n",
       "  </thead>\n",
       "  <tbody>\n",
       "    <tr>\n",
       "      <th>0</th>\n",
       "      <td>Kennedy Space Center</td>\n",
       "      <td>Control Room 2/1726/HGR-S</td>\n",
       "      <td>1957.0</td>\n",
       "      <td>Kennedy Space Center</td>\n",
       "      <td>FL</td>\n",
       "    </tr>\n",
       "    <tr>\n",
       "      <th>1</th>\n",
       "      <td>Langley Research Center</td>\n",
       "      <td>Micometeroid/LDEF Analysis Laboratory</td>\n",
       "      <td>1965.0</td>\n",
       "      <td>Hampton</td>\n",
       "      <td>VA</td>\n",
       "    </tr>\n",
       "    <tr>\n",
       "      <th>2</th>\n",
       "      <td>Kennedy Space Center</td>\n",
       "      <td>SRM Rotation and Processing Facility/K6-0494</td>\n",
       "      <td>1984.0</td>\n",
       "      <td>Kennedy Space Center</td>\n",
       "      <td>FL</td>\n",
       "    </tr>\n",
       "    <tr>\n",
       "      <th>3</th>\n",
       "      <td>Marshall Space Flight Center</td>\n",
       "      <td>ET WTC - 14-Inch Trisonic Wind Tunnel 4732</td>\n",
       "      <td>1968.0</td>\n",
       "      <td>Huntsville</td>\n",
       "      <td>AL</td>\n",
       "    </tr>\n",
       "    <tr>\n",
       "      <th>4</th>\n",
       "      <td>Marshall Space Flight Center</td>\n",
       "      <td>EB LAB Control Moment Gyro Test &amp; Eval Fac 4487</td>\n",
       "      <td>NaN</td>\n",
       "      <td>Huntsville</td>\n",
       "      <td>AL</td>\n",
       "    </tr>\n",
       "    <tr>\n",
       "      <th>...</th>\n",
       "      <td>...</td>\n",
       "      <td>...</td>\n",
       "      <td>...</td>\n",
       "      <td>...</td>\n",
       "      <td>...</td>\n",
       "    </tr>\n",
       "    <tr>\n",
       "      <th>480</th>\n",
       "      <td>Goddard Space Flight Center</td>\n",
       "      <td>700: Space Simulation Laboratory, Building 7/1...</td>\n",
       "      <td>1962.0</td>\n",
       "      <td>Greenbelt</td>\n",
       "      <td>MD</td>\n",
       "    </tr>\n",
       "    <tr>\n",
       "      <th>481</th>\n",
       "      <td>Goddard Space Flight Center</td>\n",
       "      <td>500: Space-Ground Link Terminal</td>\n",
       "      <td>1977.0</td>\n",
       "      <td>Greenbelt</td>\n",
       "      <td>MD</td>\n",
       "    </tr>\n",
       "    <tr>\n",
       "      <th>482</th>\n",
       "      <td>Jet Propulsion Lab</td>\n",
       "      <td>Frequency Standards Laboratory</td>\n",
       "      <td>1985.0</td>\n",
       "      <td>PASADENA</td>\n",
       "      <td>CA</td>\n",
       "    </tr>\n",
       "    <tr>\n",
       "      <th>483</th>\n",
       "      <td>Marshall Space Flight Center</td>\n",
       "      <td>ET West Vibration Test Facility 4619</td>\n",
       "      <td>NaN</td>\n",
       "      <td>Huntsville</td>\n",
       "      <td>AL</td>\n",
       "    </tr>\n",
       "    <tr>\n",
       "      <th>484</th>\n",
       "      <td>Wallops Flight Facility/GSFC</td>\n",
       "      <td>National Scientific Balloon Facility</td>\n",
       "      <td>1977.0</td>\n",
       "      <td>Wallops Island</td>\n",
       "      <td>VA</td>\n",
       "    </tr>\n",
       "  </tbody>\n",
       "</table>\n",
       "<p>485 rows × 5 columns</p>\n",
       "</div>"
      ],
      "text/plain": [
       "                           Center  \\\n",
       "0            Kennedy Space Center   \n",
       "1         Langley Research Center   \n",
       "2            Kennedy Space Center   \n",
       "3    Marshall Space Flight Center   \n",
       "4    Marshall Space Flight Center   \n",
       "..                            ...   \n",
       "480   Goddard Space Flight Center   \n",
       "481   Goddard Space Flight Center   \n",
       "482            Jet Propulsion Lab   \n",
       "483  Marshall Space Flight Center   \n",
       "484  Wallops Flight Facility/GSFC   \n",
       "\n",
       "                                              Facility  Occupied  \\\n",
       "0                           Control Room 2/1726/HGR-S     1957.0   \n",
       "1                Micometeroid/LDEF Analysis Laboratory    1965.0   \n",
       "2        SRM Rotation and Processing Facility/K6-0494     1984.0   \n",
       "3           ET WTC - 14-Inch Trisonic Wind Tunnel 4732    1968.0   \n",
       "4      EB LAB Control Moment Gyro Test & Eval Fac 4487       NaN   \n",
       "..                                                 ...       ...   \n",
       "480  700: Space Simulation Laboratory, Building 7/1...    1962.0   \n",
       "481                    500: Space-Ground Link Terminal    1977.0   \n",
       "482                     Frequency Standards Laboratory    1985.0   \n",
       "483               ET West Vibration Test Facility 4619       NaN   \n",
       "484               National Scientific Balloon Facility    1977.0   \n",
       "\n",
       "                     City State  \n",
       "0    Kennedy Space Center    FL  \n",
       "1                 Hampton    VA  \n",
       "2    Kennedy Space Center    FL  \n",
       "3              Huntsville    AL  \n",
       "4              Huntsville    AL  \n",
       "..                    ...   ...  \n",
       "480             Greenbelt    MD  \n",
       "481             Greenbelt    MD  \n",
       "482              PASADENA    CA  \n",
       "483            Huntsville    AL  \n",
       "484        Wallops Island    VA  \n",
       "\n",
       "[485 rows x 5 columns]"
      ]
     },
     "execution_count": 24,
     "metadata": {},
     "output_type": "execute_result"
    }
   ],
   "source": [
    "df[['Center','Facility', 'Occupied', 'City', 'State' ]]"
   ]
  },
  {
   "cell_type": "code",
   "execution_count": 25,
   "id": "c63a61a2",
   "metadata": {
    "scrolled": false
   },
   "outputs": [
    {
     "name": "stdout",
     "output_type": "stream",
     "text": [
      "FL\n",
      "VA\n",
      "AL\n",
      "CA\n",
      "MS\n",
      "MD\n",
      "LA\n",
      "DC\n",
      "OH\n",
      "TX\n"
     ]
    }
   ],
   "source": [
    "estados = df['State'].unique()\n",
    "for X in estados:\n",
    "  print(X)"
   ]
  },
  {
   "cell_type": "code",
   "execution_count": 27,
   "id": "7e119cdf",
   "metadata": {},
   "outputs": [
    {
     "name": "stdout",
     "output_type": "stream",
     "text": [
      "US\n"
     ]
    }
   ],
   "source": [
    "paises = df['Country'].unique()\n",
    "for X in paises:\n",
    "  print(X)"
   ]
  },
  {
   "cell_type": "code",
   "execution_count": 46,
   "id": "ac16a727",
   "metadata": {},
   "outputs": [
    {
     "name": "stdout",
     "output_type": "stream",
     "text": [
      "nan\n",
      "Active\n",
      "Inactive\n",
      "Under Rehabilitation\n",
      "Under\n"
     ]
    }
   ],
   "source": [
    "stats = df['Status'].unique()\n",
    "for X in stats:\n",
    "  print(X)"
   ]
  },
  {
   "cell_type": "code",
   "execution_count": 31,
   "id": "54658ec4",
   "metadata": {},
   "outputs": [
    {
     "data": {
      "text/plain": [
       "1967.8823529411766"
      ]
     },
     "execution_count": 31,
     "metadata": {},
     "output_type": "execute_result"
    }
   ],
   "source": [
    "df[df['City']=='PASADENA']['Occupied'].mean()"
   ]
  },
  {
   "cell_type": "code",
   "execution_count": 32,
   "id": "24e32b22",
   "metadata": {
    "scrolled": true
   },
   "outputs": [
    {
     "name": "stdout",
     "output_type": "stream",
     "text": [
      "Huntsville              136\n",
      "Kennedy Space Center     84\n",
      "Hampton                  50\n",
      "Cleveland                42\n",
      "PASADENA                 37\n",
      "Greenbelt                32\n",
      "Stennis Space Center     29\n",
      "Washington               23\n",
      "New Orleans              17\n",
      "Moffett Field            12\n",
      "Wallops Island           10\n",
      "Edwards                   7\n",
      "Houston                   6\n",
      "Name: City, dtype: int64\n"
     ]
    }
   ],
   "source": [
    "citycount = df['City'].value_counts()\n",
    "print(citycount)"
   ]
  },
  {
   "cell_type": "code",
   "execution_count": 35,
   "id": "a3e31b7a",
   "metadata": {
    "scrolled": true
   },
   "outputs": [
    {
     "data": {
      "text/plain": [
       "Center                  37\n",
       "Center Search Status    37\n",
       "Facility                37\n",
       "FacilityURL              0\n",
       "Occupied                34\n",
       "Status                  37\n",
       "URL Link                 7\n",
       "Record Date             37\n",
       "Last Update             37\n",
       "Country                 37\n",
       "Contact                 37\n",
       "Phone                   37\n",
       "Location                37\n",
       "City                    37\n",
       "State                   37\n",
       "Zipcode                 37\n",
       "World Map               37\n",
       "States                  37\n",
       "Counties                37\n",
       "dtype: int64"
      ]
     },
     "execution_count": 35,
     "metadata": {},
     "output_type": "execute_result"
    }
   ],
   "source": [
    "df[df['City'] == 'PASADENA'].count()"
   ]
  },
  {
   "cell_type": "code",
   "execution_count": 38,
   "id": "9922f01d",
   "metadata": {},
   "outputs": [
    {
     "name": "stdout",
     "output_type": "stream",
     "text": [
      "Public    485\n",
      "Name: Center Search Status, dtype: int64\n"
     ]
    }
   ],
   "source": [
    "status = df['Center Search Status'].value_counts()\n",
    "print(status)"
   ]
  },
  {
   "cell_type": "code",
   "execution_count": 39,
   "id": "a4c70791",
   "metadata": {},
   "outputs": [],
   "source": [
    "newdf = df[['Center','Facility', 'Occupied', 'Status', 'Record Date', 'Last Update', 'Location', 'City', 'State']]"
   ]
  },
  {
   "cell_type": "code",
   "execution_count": 41,
   "id": "a3a27c31",
   "metadata": {},
   "outputs": [
    {
     "data": {
      "text/html": [
       "<div>\n",
       "<style scoped>\n",
       "    .dataframe tbody tr th:only-of-type {\n",
       "        vertical-align: middle;\n",
       "    }\n",
       "\n",
       "    .dataframe tbody tr th {\n",
       "        vertical-align: top;\n",
       "    }\n",
       "\n",
       "    .dataframe thead th {\n",
       "        text-align: right;\n",
       "    }\n",
       "</style>\n",
       "<table border=\"1\" class=\"dataframe\">\n",
       "  <thead>\n",
       "    <tr style=\"text-align: right;\">\n",
       "      <th></th>\n",
       "      <th>Center</th>\n",
       "      <th>Facility</th>\n",
       "      <th>Occupied</th>\n",
       "      <th>Status</th>\n",
       "      <th>Record Date</th>\n",
       "      <th>Last Update</th>\n",
       "      <th>Location</th>\n",
       "      <th>City</th>\n",
       "      <th>State</th>\n",
       "    </tr>\n",
       "  </thead>\n",
       "  <tbody>\n",
       "    <tr>\n",
       "      <th>0</th>\n",
       "      <td>Kennedy Space Center</td>\n",
       "      <td>Control Room 2/1726/HGR-S</td>\n",
       "      <td>1957.0</td>\n",
       "      <td>NaN</td>\n",
       "      <td>03/01/1996 12:00:00 AM</td>\n",
       "      <td>06/22/2015 12:00:00 AM</td>\n",
       "      <td>32899(28.538331, -81.378879)</td>\n",
       "      <td>Kennedy Space Center</td>\n",
       "      <td>FL</td>\n",
       "    </tr>\n",
       "    <tr>\n",
       "      <th>1</th>\n",
       "      <td>Langley Research Center</td>\n",
       "      <td>Micometeroid/LDEF Analysis Laboratory</td>\n",
       "      <td>1965.0</td>\n",
       "      <td>Active</td>\n",
       "      <td>03/01/1996 12:00:00 AM</td>\n",
       "      <td>02/25/2013 12:00:00 AM</td>\n",
       "      <td>23681-2199(37.08681, -76.376649)</td>\n",
       "      <td>Hampton</td>\n",
       "      <td>VA</td>\n",
       "    </tr>\n",
       "    <tr>\n",
       "      <th>2</th>\n",
       "      <td>Kennedy Space Center</td>\n",
       "      <td>SRM Rotation and Processing Facility/K6-0494</td>\n",
       "      <td>1984.0</td>\n",
       "      <td>NaN</td>\n",
       "      <td>03/01/1996 12:00:00 AM</td>\n",
       "      <td>06/22/2015 12:00:00 AM</td>\n",
       "      <td>32899(28.538331, -81.378879)</td>\n",
       "      <td>Kennedy Space Center</td>\n",
       "      <td>FL</td>\n",
       "    </tr>\n",
       "    <tr>\n",
       "      <th>3</th>\n",
       "      <td>Marshall Space Flight Center</td>\n",
       "      <td>ET WTC - 14-Inch Trisonic Wind Tunnel 4732</td>\n",
       "      <td>1968.0</td>\n",
       "      <td>Active</td>\n",
       "      <td>03/01/1996 12:00:00 AM</td>\n",
       "      <td>03/31/2014 12:00:00 AM</td>\n",
       "      <td>35812(34.729538, -86.585283)</td>\n",
       "      <td>Huntsville</td>\n",
       "      <td>AL</td>\n",
       "    </tr>\n",
       "    <tr>\n",
       "      <th>4</th>\n",
       "      <td>Marshall Space Flight Center</td>\n",
       "      <td>EB LAB Control Moment Gyro Test &amp; Eval Fac 4487</td>\n",
       "      <td>NaN</td>\n",
       "      <td>Active</td>\n",
       "      <td>06/11/1996 12:00:00 AM</td>\n",
       "      <td>05/30/2014 12:00:00 AM</td>\n",
       "      <td>35812(34.729538, -86.585283)</td>\n",
       "      <td>Huntsville</td>\n",
       "      <td>AL</td>\n",
       "    </tr>\n",
       "  </tbody>\n",
       "</table>\n",
       "</div>"
      ],
      "text/plain": [
       "                         Center  \\\n",
       "0          Kennedy Space Center   \n",
       "1       Langley Research Center   \n",
       "2          Kennedy Space Center   \n",
       "3  Marshall Space Flight Center   \n",
       "4  Marshall Space Flight Center   \n",
       "\n",
       "                                          Facility  Occupied  Status  \\\n",
       "0                       Control Room 2/1726/HGR-S     1957.0     NaN   \n",
       "1            Micometeroid/LDEF Analysis Laboratory    1965.0  Active   \n",
       "2    SRM Rotation and Processing Facility/K6-0494     1984.0     NaN   \n",
       "3       ET WTC - 14-Inch Trisonic Wind Tunnel 4732    1968.0  Active   \n",
       "4  EB LAB Control Moment Gyro Test & Eval Fac 4487       NaN  Active   \n",
       "\n",
       "              Record Date             Last Update  \\\n",
       "0  03/01/1996 12:00:00 AM  06/22/2015 12:00:00 AM   \n",
       "1  03/01/1996 12:00:00 AM  02/25/2013 12:00:00 AM   \n",
       "2  03/01/1996 12:00:00 AM  06/22/2015 12:00:00 AM   \n",
       "3  03/01/1996 12:00:00 AM  03/31/2014 12:00:00 AM   \n",
       "4  06/11/1996 12:00:00 AM  05/30/2014 12:00:00 AM   \n",
       "\n",
       "                           Location                  City State  \n",
       "0      32899(28.538331, -81.378879)  Kennedy Space Center    FL  \n",
       "1  23681-2199(37.08681, -76.376649)               Hampton    VA  \n",
       "2      32899(28.538331, -81.378879)  Kennedy Space Center    FL  \n",
       "3      35812(34.729538, -86.585283)            Huntsville    AL  \n",
       "4      35812(34.729538, -86.585283)            Huntsville    AL  "
      ]
     },
     "execution_count": 41,
     "metadata": {},
     "output_type": "execute_result"
    }
   ],
   "source": [
    "newdf.head(5)"
   ]
  },
  {
   "cell_type": "code",
   "execution_count": 42,
   "id": "3c704fe0",
   "metadata": {},
   "outputs": [],
   "source": [
    "#gráficos"
   ]
  },
  {
   "cell_type": "code",
   "execution_count": 43,
   "id": "0f27f006",
   "metadata": {},
   "outputs": [
    {
     "data": {
      "image/png": "[encoded data removed]",
      "text/plain": [
       "<Figure size 640x480 with 1 Axes>"
      ]
     },
     "metadata": {},
     "output_type": "display_data"
    }
   ],
   "source": [
    "statecount = df['State'].value_counts()\n",
    "cores = ['lightcoral', 'lightblue', 'lightgreen', 'lightgray', 'gold', 'lightcyan']\n",
    "fig, ax = plt.subplots()\n",
    "ax.pie(statecount, labels=statecount.index, colors=cores, autopct='%1.1f%%')\n",
    "ax.set_title('Distribuição Estados')\n",
    "plt.show()"
   ]
  },
  {
   "cell_type": "code",
   "execution_count": 48,
   "id": "34764b4f",
   "metadata": {},
   "outputs": [
    {
     "data": {
      "text/plain": [
       "[Text(0, 0, 'Ativo'),\n",
       " Text(1, 0, 'Desativo'),\n",
       " Text(2, 0, 'Reabilitação'),\n",
       " Text(3, 0, 'n/a')]"
      ]
     },
     "execution_count": 48,
     "metadata": {},
     "output_type": "execute_result"
    },
    {
     "data": {
      "image/png": "[encoded data removed]",
      "text/plain": [
       "<Figure size 640x480 with 1 Axes>"
      ]
     },
     "metadata": {},
     "output_type": "display_data"
    }
   ],
   "source": [
    "eixo_x_rename = [\"Ativo\", \"Desativo\", \"Reabilitação\", \"n/a\"]\n",
    "\n",
    "sns.set_style(\"darkgrid\", {\"grid.color\": \".6\", \"grid.linestyle\": \":\"})\n",
    "\n",
    "ax = sns.countplot(x=\"Status\", data=df, palette=\"Set1\")\n",
    "\n",
    "ax.set_xticklabels(eixo_x_rename)"
   ]
  },
  {
   "cell_type": "code",
   "execution_count": 51,
   "id": "50535a9b",
   "metadata": {},
   "outputs": [
    {
     "name": "stdout",
     "output_type": "stream",
     "text": [
      "287    Chamber A, EC, B-32 \n",
      "362    Test Stand B-2 #4221\n",
      "Name: Facility, dtype: object\n"
     ]
    }
   ],
   "source": [
    "reabilitacao = df[df['Status'] == 'Under Rehabilitation']\n",
    "print(reabilitacao['Facility'])"
   ]
  },
  {
   "cell_type": "code",
   "execution_count": 53,
   "id": "0307767a",
   "metadata": {},
   "outputs": [
    {
     "name": "stdout",
     "output_type": "stream",
     "text": [
      "Center                                  Johnson Space Center\n",
      "Center Search Status                                  Public\n",
      "Facility                                Chamber A, EC, B-32 \n",
      "FacilityURL                                              NaN\n",
      "Occupied                                              1964.0\n",
      "Status                                  Under Rehabilitation\n",
      "URL Link                http://ctsdtests.jsc.nasa.gov/A.html\n",
      "Record Date                           03/01/1996 12:00:00 AM\n",
      "Last Update                           09/26/2012 12:00:00 AM\n",
      "Country                                                   US\n",
      "Contact                                         Charles Noel\n",
      "Phone                                           281.483.3219\n",
      "Location                        77058(29.559177, -95.097897)\n",
      "City                                                 Houston\n",
      "State                                                     TX\n",
      "Zipcode                                                77058\n",
      "World Map                                                173\n",
      "States                                                    23\n",
      "Counties                                                2024\n",
      "Name: 287, dtype: object\n"
     ]
    }
   ],
   "source": [
    "linha_100 = df.iloc[287]\n",
    "print(linha_100)"
   ]
  },
  {
   "cell_type": "code",
   "execution_count": 54,
   "id": "5933925a",
   "metadata": {},
   "outputs": [
    {
     "name": "stdout",
     "output_type": "stream",
     "text": [
      "Center                               Stennis Space Center\n",
      "Center Search Status                               Public\n",
      "Facility                             Test Stand B-2 #4221\n",
      "FacilityURL                                           NaN\n",
      "Occupied                                           1965.0\n",
      "Status                               Under Rehabilitation\n",
      "URL Link                       http://rockettest.nasa.gov\n",
      "Record Date                        12/11/2000 12:00:00 AM\n",
      "Last Update                        04/06/2015 12:00:00 AM\n",
      "Country                                                US\n",
      "Contact                                      Robert Bruce\n",
      "Phone                                        228-688-1646\n",
      "Location                39529-6000(30.385948, -89.604486)\n",
      "City                                 Stennis Space Center\n",
      "State                                                  MS\n",
      "Zipcode                                        39529-6000\n",
      "World Map                                             173\n",
      "States                                                 32\n",
      "Counties                                             1643\n",
      "Name: 362, dtype: object\n"
     ]
    }
   ],
   "source": [
    "linha_100 = df.iloc[362]\n",
    "print(linha_100)"
   ]
  },
  {
   "cell_type": "code",
   "execution_count": 61,
   "id": "31084bf1",
   "metadata": {},
   "outputs": [
    {
     "data": {
      "image/png": "[encoded data removed]",
      "text/plain": [
       "<Figure size 1000x600 with 1 Axes>"
      ]
     },
     "metadata": {},
     "output_type": "display_data"
    }
   ],
   "source": [
    "sns.set_style(\"whitegrid\")\n",
    "\n",
    "### Definindo a coluna para a variável numérica (por exemplo, \"NOTA_REDACAO\") e a coluna de agrupamento (por exemplo, \"TP_COR_RACA\")\n",
    "numeric_column = 'Occupied'\n",
    "grouping_column = 'State'\n",
    "\n",
    "### Criando um gráfico de violino (violin plot)\n",
    "plt.figure(figsize=(10, 6))\n",
    "sns.violinplot(data=df, x=grouping_column, y=numeric_column, palette=\"Set1\")\n",
    "plt.title(f'Gráfico de Violino de {numeric_column} por {grouping_column}')\n",
    "plt.xlabel(grouping_column)\n",
    "plt.ylabel(numeric_column)\n",
    "\n",
    "plt.tight_layout()\n",
    "plt.show()"
   ]
  },
  {
   "cell_type": "code",
   "execution_count": null,
   "id": "413dcd62",
   "metadata": {},
   "outputs": [],
   "source": []
  }
 ],
 "metadata": {
  "kernelspec": {
   "display_name": "Python 3 (ipykernel)",
   "language": "python",
   "name": "python3"
  },
  "language_info": {
   "codemirror_mode": {
    "name": "ipython",
    "version": 3
   },
   "file_extension": ".py",
   "mimetype": "text/x-python",
   "name": "python",
   "nbconvert_exporter": "python",
   "pygments_lexer": "ipython3",
   "version": "3.10.9"
  }
 },
 "nbformat": 4,
 "nbformat_minor": 5
}
